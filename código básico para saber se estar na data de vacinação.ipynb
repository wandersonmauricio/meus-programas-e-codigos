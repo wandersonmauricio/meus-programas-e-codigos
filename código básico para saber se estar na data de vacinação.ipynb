{
  "cells": [
    {
      "cell_type": "markdown",
      "metadata": {
        "id": "view-in-github",
        "colab_type": "text"
      },
      "source": [
        "<a href=\"https://colab.research.google.com/github/wandersonmauricio/meus-programas-e-codigos/blob/main/c%C3%B3digo%20b%C3%A1sico%20para%20saber%20se%20estar%20na%20data%20de%20vacina%C3%A7%C3%A3o.ipynb\" target=\"_parent\"><img src=\"https://colab.research.google.com/assets/colab-badge.svg\" alt=\"Open In Colab\"/></a>"
      ]
    },
    {
      "cell_type": "code",
      "source": [],
      "metadata": {
        "id": "uB_oyAj4oxy4"
      },
      "execution_count": null,
      "outputs": []
    },
    {
      "cell_type": "markdown",
      "source": [],
      "metadata": {
        "id": "rRg4rkEEocPj"
      }
    },
    {
      "cell_type": "code",
      "source": [
        "idade = eval(input('Informe a idade da criança: \\n'))\n",
        "if idade < 5:\n",
        "    print('A criança deve ser vacinada contra a gripe.')\n",
        "    print('Procure o posto de saúde mais próximo.')\n",
        "elif idade == 5:\n",
        "    print('A vacina estará disponível em breve.')\n",
        "    print('Aguarde as próximas informações.')\n",
        "else:\n",
        "    print('A vacinação só ocorrerá daqui a 3 meses.')\n",
        "    print('Informe-se novamente neste prazo.')\n",
        "print('Cuide da saúde sempre. Até a próxima.')\n"
      ],
      "metadata": {
        "id": "UCHSdC_poc_K",
        "outputId": "dd950421-6ddd-4f4c-adec-709999a8adee",
        "colab": {
          "base_uri": "https://localhost:8080/"
        }
      },
      "execution_count": 2,
      "outputs": [
        {
          "output_type": "stream",
          "name": "stdout",
          "text": [
            "Informe a idade da criança: \n",
            "5\n",
            "A vacina estará disponível em breve.\n",
            "Aguarde as próximas informações.\n",
            "Cuide da saúde sempre. Até a próxima.\n"
          ]
        }
      ]
    }
  ],
  "metadata": {
    "colab": {
      "collapsed_sections": [],
      "name": "Olá, este é o Colaboratory",
      "provenance": [],
      "include_colab_link": true
    },
    "kernelspec": {
      "display_name": "Python 3",
      "name": "python3"
    }
  },
  "nbformat": 4,
  "nbformat_minor": 0
}